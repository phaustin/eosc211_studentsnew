{
 "cells": [
  {
   "cell_type": "markdown",
   "id": "39de1a2f",
   "metadata": {},
   "source": [
    "# Covid Safety in the Classroom  \n",
    "**Masks:** Masks are required for all indoor classes, as per the BC Public Health Officer orders. For our in-person meetings in this class, it is important that all of us feel as comfortable as possible engaging in class activities while sharing an indoor space.  For the purposes of this order, the term “masks” refers to medical and non-medical masks that cover our noses and mouths.  Masks are a primary tool to make it harder for Covid-19 to find a new host.  You will need to wear a medical or non-medical mask for the duration of our class meetings, for your own protection, and the safety and comfort of everyone else in the class.  You may be asked to remove your mask briefly for an ID check for an exam, but otherwise, your mask should cover your nose and mouth. Please do not eat in class. If you need to drink water/coffee/tea/etc, please keep your mask on between sips. Please note that there are some people who cannot wear a mask. These individuals are equally welcome in our class. \n",
    "\n",
    "**Vaccination:** If you have not yet had a chance to get vaccinated against Covid-19, vaccines are available to you, free, and on campus. The higher the rate of vaccination in our community overall, the lower the chance of spreading this virus.  You are an important part of the UBC community. Please arrange to get vaccinated if you have not already done so. \n",
    "\n",
    "**Seating in class:**  To reduce the risk of Covid transmission, please sit in your assigned group in a consistent area of the classroom each day.  This will minimize your contacts and still allow for the pedagogical methods planned for this class to help your learning."
   ]
  },
  {
   "cell_type": "markdown",
   "id": "be0b4e31",
   "metadata": {},
   "source": [
    "# Your personal health\n",
    "\n",
    "If you’re sick, it’s important to stay home – no matter what you may be sick with.  A daily self-health assessment is required before attending campus. Every day, before coming to class, complete the self-assessment for Covid symptoms using this tool: https://bc.thrive.health/covid19/en.  Do not come to class if you have Covid symptoms, have recently tested positive for Covid, or are required to quarantine. You can check this website to find out if you should self-isolate or self-monitor: http://www.bccdc.ca/health-info/diseases-conditions/covid-19/self-isolation#Who.  Your precautions will help reduce risk and keep everyone safer.  The course set up and marking scheme are intended to provide flexibility so that you can prioritize your health and still succeed. \n",
    "* The materials / labs / worksheets are available online and can be done in your own time at home if you are ill.\n",
    "* We will automatically drop your lowest score among the quizzes. \n",
    "* We will automatically drop your lowest lab score, so it’s OK to miss a lab (though it will help you in the course to complete them all, even for practice). \n",
    "* We will attempt to record the in-person lectures; however the course is designed for an in-person experience, so unlike a fully online course the recordings will not be optimized in anyway (sound, instructor at the podium the whole time etc).\n",
    "\n",
    "## If you miss class because of illness: \n",
    "* Connect with your group members to catch up on worksheets etc.\n",
    "* Use the online piazza forum for help.  \n",
    "* Come to virtual office hours.\n",
    "* See the marking scheme for reassurance about what flexibility you have. \n",
    "* If you are concerned that you will need to miss a particular key activity due to illness, contact us to discuss. \n",
    "\n",
    "## If you are sick on a midterm exam day\n",
    "Please email the instructor as soon as you are confident you should not come to the scheduled exam.  We would strongly prefer that you contact us to make an alternate arrangement than for you to come to the exam while you are ill.  If you do show up for an exam and you are clearly ill, you will not be able to write the exam and we will make alternate arrangements with you.  It is much better for you to email ahead of time and not attend.  Remember to include your full name and student number in your message. \n",
    "\n",
    "## If you are sick on a final exam day.\n",
    "Do not attend the exam. You must apply for deferred standing (an academic concession) through Science Advising no later than 48 hours after the missed final exam/assignment. Students who are granted deferred standing write the final exam/assignment at a later date. Learn more and find the application online: https://science.ubc.ca/students/advising/concession.  For additional information about academic concessions, see the UBC policy here: http://www.calendar.ubc.ca/vancouver/index.cfm?tree=3,329,0,0"
   ]
  },
  {
   "cell_type": "markdown",
   "id": "987f6d59",
   "metadata": {},
   "source": [
    "# Instructor health\n",
    "If either of the instructors are sick: We will do our best to stay well, but if one of us is ill, develops Covid symptoms, or tests positive for Covid, then we will not come to class.  If that happens, here’s what you can expect.  We will either\n",
    "* arrange for the co-instructor or a TA to lead the class, or \n",
    "* have synchronous on-line sessions.  If this happens, you will receive an announcement in Canvas telling you how to join the class.  You can anticipate that this would very likely be a last-minute email.  Our classroom will still be available for you to sit and attend an online session, in this (hopefully rare) instance."
   ]
  }
 ],
 "metadata": {
  "jupytext": {
   "formats": "ipynb,md:myst",
   "text_representation": {
    "extension": ".md",
    "format_name": "myst",
    "format_version": 0.13,
    "jupytext_version": "1.11.4"
   }
  },
  "kernelspec": {
   "display_name": "Python 3 (ipykernel)",
   "language": "python",
   "name": "python3"
  },
  "language_info": {
   "codemirror_mode": {
    "name": "ipython",
    "version": 3
   },
   "file_extension": ".py",
   "mimetype": "text/x-python",
   "name": "python",
   "nbconvert_exporter": "python",
   "pygments_lexer": "ipython3",
   "version": "3.8.12"
  },
  "source_map": [
   13,
   22,
   45
  ]
 },
 "nbformat": 4,
 "nbformat_minor": 5
}