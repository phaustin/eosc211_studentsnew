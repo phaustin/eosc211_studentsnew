{
 "cells": [
  {
   "cell_type": "markdown",
   "id": "5a457931",
   "metadata": {},
   "source": [
    "# Course Schedule - Fall Semester 2021\n",
    "\n",
    "Week |Dates | Readings | Worksheets | Lab\n",
    " --- | --- | --- | --- | --- |\n",
    " 1|Sept 7-10| none | none | none\n",
    " 2|Sept 13-17|  [Why Python?](https://phaustin.github.io/Problem-Solving-with-Python/Orientation/Why-Python.html) <br> [The Jupyter Notebook Interface](https://phaustin.github.io/Problem-Solving-with-Python/Jupyter-Notebooks/The-Jupyter-Notebook-Interface.html) (optional) <br> [All of Chapter 5](https://phaustin.github.io/Problem-Solving-with-Python/Data-Types-and-Variables/Introduction.html) | algorithm design, intro to python, built in functions, data types | intro to jupyterlab \n",
    " 3|Sept 20-24|  [Lists and Arrays](https://phaustin.github.io/Problem-Solving-with-Python/NumPy-and-Arrays/Python-Lists-and-NumPy-Arrays.html) <br> [Array Creation](https://phaustin.github.io/Problem-Solving-with-Python/NumPy-and-Arrays/Array-Creation.html) <br> [Array Indexing](https://phaustin.github.io/Problem-Solving-with-Python/NumPy-and-Arrays/Array-Indexing.html) <br> [Array Slicing](https://phaustin.github.io/Problem-Solving-with-Python/NumPy-and-Arrays/Array-Slicing.html) <br> [Array Operations](https://phaustin.github.io/Problem-Solving-with-Python/NumPy-and-Arrays/Array-Opperations.html) | intro to numpy arrays, built in functions, slicing| matplotlib, scientific figures, [import, input, process, output], array manipulation\n",
    " 4|Sept 27-Oct 1|  [What is Matplotlib?](https://phaustin.github.io/Problem-Solving-with-Python/Plotting-with-Matplotlib/What-is-Matplotlib.html) <br> [Line Plots](https://phaustin.github.io/Problem-Solving-with-Python/Plotting-with-Matplotlib/Line-Plots.html) <br> [Multi-line Plots](https://phaustin.github.io/Problem-Solving-with-Python/Plotting-with-Matplotlib/Multi-Line-Plots.html) <br> [Annotations](https://phaustin.github.io/Problem-Solving-with-Python/Plotting-with-Matplotlib/Plot-Annotations.html) <br> [Contour Plots](https://phaustin.github.io/Problem-Solving-with-Python/Plotting-with-Matplotlib/Contour-Plots.html) <br> *Note: all of chapter 6 is a useful resource for this course/future* |  plotting data and scientific figures (no class thurs) | math, code structuring, plt subplots\n",
    " 5|Oct 4-8| [User Input](https://phaustin.github.io/Problem-Solving-with-Python/If-Else-Try-Except/User-Input.html) <br> [Selection Statements](https://phaustin.github.io/Problem-Solving-with-Python/If-Else-Try-Except/Selection-Statements.html) <br> [If Statements](https://phaustin.github.io/Problem-Solving-with-Python/If-Else-Try-Except/If-Statements.html) <br> [If Else Statements](https://phaustin.github.io/Problem-Solving-with-Python/If-Else-Try-Except/If-Else-Statements.html) |  logic, `if elif else` | plt.annotate(), logic, user input\n",
    " 5.5  | | Assignment 1\n",
    " 6|Oct 11-15|  [For Loops](https://phaustin.github.io/Problem-Solving-with-Python/Loops/For-Loops.html) <br> [While Loops](https://phaustin.github.io/Problem-Solving-with-Python/Loops/While-Loops.html) | loops | filtering data using running mean/median, loops\n",
    " 7|Oct 18-22|   | MIDTERM\n",
    " 8|Oct 25-29| [Why Functions](https://phaustin.github.io/Problem-Solving-with-Python/Functions-and-Modules/Why-Functions.html) <br> [First Function](https://phaustin.github.io/Problem-Solving-with-Python/Functions-and-Modules/First-Function.html) <br> [Functions with Multiple Arguments](https://phaustin.github.io/Problem-Solving-with-Python/Functions-and-Modules/Functions-with-multiple-arguments.html) <br> [Functions with Default Arguments](https://phaustin.github.io/Problem-Solving-with-Python/Functions-and-Modules/Functions-with-default-arguments.html) <br> [Docstrings](https://phaustin.github.io/Problem-Solving-with-Python/Functions-and-Modules/Docstrings-in-Functions.html) <br> [Positional and Keyword Arguments](https://phaustin.github.io/Problem-Solving-with-Python/Functions-and-Modules/Positional-and-Keyword-Arguments.html) | functions | Implement functions in existing code\n",
    " 9|Nov 1-5|  TBA | debugging and error types (off by one, fencepost) | go through a \"large\" functional program, using dictionaries, `*args, **kwargs` \n",
    " 10|Nov 8-12| Get your own python  | dictionaries (no lab/thurs class) | none\n",
    " 11|Nov 15-19|  TBA | vectorization and speed | interpolation with scipy\n",
    " 12|Nov 22-26|  TBA | vectorization practice, file IO (csv) | none\n",
    " 13|Nov 29-Dec 1| TBA | review, linear algebra (if time) | none\n",
    " 14|Dec 6-7| Review weeks 1-13 ||"
   ]
  }
 ],
 "metadata": {
  "jupytext": {
   "formats": "ipynb,md:myst",
   "text_representation": {
    "extension": ".md",
    "format_name": "myst",
    "format_version": 0.13,
    "jupytext_version": "1.10.3"
   }
  },
  "kernelspec": {
   "display_name": "Python 3 (ipykernel)",
   "language": "python",
   "name": "python3"
  },
  "language_info": {
   "codemirror_mode": {
    "name": "ipython",
    "version": 3
   },
   "file_extension": ".py",
   "mimetype": "text/x-python",
   "name": "python",
   "nbconvert_exporter": "python",
   "pygments_lexer": "ipython3",
   "version": "3.8.12"
  },
  "source_map": [
   13
  ]
 },
 "nbformat": 4,
 "nbformat_minor": 5
}