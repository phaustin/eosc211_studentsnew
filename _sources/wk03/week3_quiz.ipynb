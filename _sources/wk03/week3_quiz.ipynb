{
 "cells": [
  {
   "cell_type": "markdown",
   "id": "79c17741",
   "metadata": {},
   "source": [
    "# Week 3 quiz\n",
    "\n",
    "- **Name:**\n",
    "- **Student number:**"
   ]
  },
  {
   "cell_type": "markdown",
   "id": "74a94a3f",
   "metadata": {},
   "source": [
    "**Instructions**:  The five items on this page show the python code in individual cells in a  jupyter notebook.  For each of the five, write down what the cell would display if you ran it."
   ]
  },
  {
   "cell_type": "markdown",
   "id": "d6179680",
   "metadata": {},
   "source": [
    "## 1)\n",
    "\n",
    "\n",
    "    the_list=[4,7,10]\n",
    "    the_list*2\n",
    "\n",
    "$~~~~~~~~~$\n",
    "\n",
    "$~~~$\n",
    "\n",
    "$~$\n",
    "\n",
    "$~~~~~~~~~$\n",
    "\n",
    "$~~~~~~~~~$"
   ]
  },
  {
   "cell_type": "markdown",
   "id": "5e67cf02",
   "metadata": {},
   "source": [
    "## 2)\n",
    "\n",
    "    import numpy as np\n",
    "    the_list=np.array([4,7,10])\n",
    "    the_list*2"
   ]
  },
  {
   "cell_type": "markdown",
   "id": "879dca53",
   "metadata": {},
   "source": [
    "## 3)\n",
    "\n",
    "    a=np.array([[1,2,3],[4,5,6],[7,8,9]])\n",
    "    a[1,:]"
   ]
  },
  {
   "cell_type": "markdown",
   "id": "42b8998c",
   "metadata": {},
   "source": [
    "## 4)\n",
    "\n",
    "\n",
    "    a=np.array([[1,2,3],[4,5,6],[7,8,9]])\n",
    "    a[:,1]=9\n",
    "    a"
   ]
  },
  {
   "cell_type": "markdown",
   "id": "929bb68b",
   "metadata": {},
   "source": [
    "## 5) \n",
    "\n",
    "    a=np.array([[1,2,3],[4,5,6],[7,8,9]])\n",
    "    b = -a\n",
    "    a[:,1]=b[2,:]\n",
    "    a"
   ]
  }
 ],
 "metadata": {
  "celltoolbar": "Create Assignment",
  "jupytext": {
   "cell_metadata_filter": "all",
   "formats": "ipynb,md:myst",
   "notebook_metadata_filter": "all",
   "text_representation": {
    "extension": ".md",
    "format_name": "myst",
    "format_version": 0.13,
    "jupytext_version": "1.10.3"
   }
  },
  "kernelspec": {
   "display_name": "Python 3 (ipykernel)",
   "language": "python",
   "name": "python3"
  },
  "language_info": {
   "codemirror_mode": {
    "name": "ipython",
    "version": 3
   },
   "file_extension": ".py",
   "mimetype": "text/x-python",
   "name": "python",
   "nbconvert_exporter": "python",
   "pygments_lexer": "ipython3",
   "version": "3.8.12"
  },
  "nbsphinx": {
   "execute": "never"
  },
  "source_map": [
   44,
   51,
   55,
   73,
   81,
   88,
   97
  ],
  "toc": {
   "base_numbering": 1,
   "nav_menu": {},
   "number_sections": true,
   "sideBar": true,
   "skip_h1_title": false,
   "title_cell": "Table of Contents",
   "title_sidebar": "Contents",
   "toc_cell": true,
   "toc_position": {
    "height": "calc(100% - 180px)",
    "left": "10px",
    "top": "150px",
    "width": "182px"
   },
   "toc_section_display": true,
   "toc_window_display": true
  }
 },
 "nbformat": 4,
 "nbformat_minor": 5
}