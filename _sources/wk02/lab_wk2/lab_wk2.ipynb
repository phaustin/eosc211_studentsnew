{
 "cells": [
  {
   "cell_type": "markdown",
   "id": "8cb31da8",
   "metadata": {},
   "source": [
    "# Lab Week 2 - Jupyterhub Tutorial\n",
    "\n",
    "## EOSC 211\n",
    "\n",
    "### Learning Objectives\n",
    "\n",
    "- Connect to Jupyterhub via the course website\n",
    "- Create, edit, and delete *code cells* and *markdown cells* in a Jupyter notebook\n",
    "- Assign data to *variables*\n",
    "- Execute code cells to do some calculations\n",
    "- Use comments and/or *markdown* cells to add annotations to your code\n",
    "- Save your work and submit an assignment via Canvas"
   ]
  },
  {
   "cell_type": "markdown",
   "id": "8969e603",
   "metadata": {},
   "source": [
    "### Intro\n",
    "\n",
    "Welcome to your first lab in **EOSC 211**! Here we will write our first bits of *Python* code, explore some of the features of *Jupyter Notebooks*, and learn how to save and submit your work for grading. \n",
    "\n",
    "The URL for this course is -url-. Here you can view all of the notes, worksheets, labs, and assignments for each week of the course. If you are on the website and would like to open an assignment to work on your own copy of it, click the rocketship icon in the top right hand corner of the screen to launch ***JuptyerHub***. After you sign in, Jupyterhub will open an interactive copy of the notebook which you can edit, download, and submit for grading. \n",
    "\n",
    "<img src=open_jhub.png width=150>\n",
    "\n",
    "#### Why Python/Jupyterhub?\n",
    "\n",
    "<img src=xkcd_python.png>\n",
    "<figcaption>Credit: Randal Munroe, xkcd.com</figcaption>\n",
    "\n",
    "**Python** is a *high level programming language,* meaning it is comparatively easy for humans to read. Python programs are executed by a *python interpreter,* which takes python code, reads it into a processor (the CPU on your computer, or in our case, a Jupyterhub server) and returns a result. This process is repeated over and over for each line of code, often taking the result of one line and feeding it into the next. \n",
    "\n",
    "Python is also *open source*, meaning there are no fees to download/use python, and anyone is free to add to the Python code base. This is a major reason for Python's growing popularity in the scientific community, there are many add ons (called *packages*) developed by other scientists specifically for the type of programming we want to do in this course, with more being added every day!\n",
    "\n",
    "**Jupyter Notebooks** are an IDE, or *integrated development environment* which have gained popularity amoung the science community for processing data, creating scientific figures, solving numerical equations, and sharing code. IDE's are essentially advanced text editors containing features helpful for writing code (if you really wanted to, you could write all your code in Notepad or Microsoft Word then copy/paste it into a python interpreter somewhere, but we strongly recommend *not* doing this). \n",
    "\n",
    "**JupyterHub** is a *computational environment* for running jupyter notebooks in the cloud, designed specifically for applications like teaching or collaborative research. The EOSC211 course hub is available online and requires no installation on your own machine. Later in the course, we will talk about installing python yourself, creating your own *environments*, and developing your own individual workflow."
   ]
  },
  {
   "cell_type": "markdown",
   "id": "411f3020",
   "metadata": {},
   "source": [
    "### Code Cells and Markdown Cells\n",
    "\n",
    "Jupyter notebooks are divided into *cells,* which can be individually edited and run. To create a new cell, click `Insert` $\\rightarrow$ `Insert Cell Below`, or press `[Alt]` + `[Enter]` to run the current cell and create a new one below. After you create a cell, you can choose either *Code* (keyboard shortcut `[Esc]` + `[y]`) or *Markdown* (`[Esc]` + `[m]`) as the cell type. You can delete cells with `Edit` $\\rightarrow$ `Delete Cells`\n",
    "\n",
    "<img src=insert_new_cell.png width=180><img src=cell_type.png width=150><img src=delete_cells.png width=180>\n",
    "\n",
    "### Code Cells\n",
    "\n",
    "Code cells are where you can write, edit, and run *Python Code.* Text entered into code cells will be shown with *syntax highlighting,* with python *reserved words* shown in green, *strings* shown in red, and *comments* in blue. You can execute code cells by pressing [$\\blacktriangleright$ Run], or `[Ctrl]` + `[Enter]` (execute current cell), `[Shift]` + `[Enter]` (run current cell and select the next one), or `[Alt]` + `[Enter]` (execute current cell and create a new one below).\n",
    "\n",
    "Try it yourself! Edit the cell below, replacing the comment (lines of code beginning with \"#\" are ignored by the python interpreter and not executed) with:\n",
    "\n",
    "```python\n",
    "print(\"Hello World\")\n",
    "```\n",
    "\n",
    "and press `[Ctrl]` + `[Enter]` to execute the code."
   ]
  },
  {
   "cell_type": "code",
   "execution_count": 1,
   "id": "8071aaea",
   "metadata": {},
   "outputs": [],
   "source": [
    "# your code here"
   ]
  },
  {
   "cell_type": "markdown",
   "id": "5076cf0d",
   "metadata": {},
   "source": [
    "Congratulations, you have just written and executed your first Python code! The \"Hello World\" program is a long-standing tradition in computer programming as a first program in a new language. \n",
    "\n",
    "Python has much more capability than just printing \"Hello World\". You can write multiple lines of code in one cell, the *python interpreter* will execute each line of code in the order it appears, i.e."
   ]
  },
  {
   "cell_type": "code",
   "execution_count": 2,
   "id": "2d71e8bc",
   "metadata": {},
   "outputs": [
    {
     "name": "stdout",
     "output_type": "stream",
     "text": [
      "Hello Earth\n",
      "Hello Ocean\n",
      "Hello Atmosphere\n"
     ]
    }
   ],
   "source": [
    "print(\"Hello Earth\")\n",
    "print(\"Hello Ocean\")\n",
    "print(\"Hello Atmosphere\")"
   ]
  },
  {
   "cell_type": "markdown",
   "id": "f3ea8a8a",
   "metadata": {},
   "source": [
    "Text written in code cells needs to be *syntactically correct* in order to execute, i.e. it needs to contain a valid combination of reserved words, operations and variables that can be parsed by the python interpreter. Invalid code will raise an error:"
   ]
  },
  {
   "cell_type": "code",
   "execution_count": 3,
   "id": "4a7f3174",
   "metadata": {},
   "outputs": [
    {
     "ename": "NameError",
     "evalue": "name 'pront' is not defined",
     "output_type": "error",
     "traceback": [
      "\u001b[0;31m---------------------------------------------------------------------------\u001b[0m",
      "\u001b[0;31mNameError\u001b[0m                                 Traceback (most recent call last)",
      "\u001b[0;32m/tmp/ipykernel_2248968/843118021.py\u001b[0m in \u001b[0;36m<module>\u001b[0;34m\u001b[0m\n\u001b[0;32m----> 1\u001b[0;31m \u001b[0mpront\u001b[0m\u001b[0;34m(\u001b[0m\u001b[0;34m\"Hello Arthur Dent\"\u001b[0m\u001b[0;34m)\u001b[0m\u001b[0;34m\u001b[0m\u001b[0;34m\u001b[0m\u001b[0m\n\u001b[0m",
      "\u001b[0;31mNameError\u001b[0m: name 'pront' is not defined"
     ]
    }
   ],
   "source": [
    "pront(\"Hello Arthur Dent\")"
   ]
  },
  {
   "cell_type": "markdown",
   "id": "f3c43479",
   "metadata": {},
   "source": [
    "If there is something wrong with a code cell, the python interpreter stops execution and produces a *traceback message.* Traceback messages appear below a code cell and usually give you a helpful hint as to what is wrong and how to fix it. Some messages can be a bit cryptic; if this is the case, try searching [stack overflow](https://stackoverflow.com/) or another helpful coding site (many exist). After searching 3 different sites without success, ask the nearest classmate, professor, or TA for help."
   ]
  },
  {
   "cell_type": "markdown",
   "id": "4d605c1c",
   "metadata": {},
   "source": [
    "#### Variables\n",
    "\n",
    "Instead of just outputting things to the screen, we can also save data as a *variable*, and reference it throughout your code, like so:"
   ]
  },
  {
   "cell_type": "code",
   "execution_count": 4,
   "id": "5a82705f",
   "metadata": {},
   "outputs": [],
   "source": [
    "planet = \"Earth\""
   ]
  },
  {
   "cell_type": "markdown",
   "id": "ddc8b7b0",
   "metadata": {},
   "source": [
    "This tells the python interpreter: *Find some space in computer memory, store the letters which form the word \"Earth\" there, and reference that word with a variable called **planet** (Note: this happens without outputting anything to the screen).* Throughout the rest of your code, referencing the variable \"planet\" will result in the word \"Earth\". If you change the variable to \"Betelgeuse\", every reference to that variable will now produce \"Betelgeuse\". Clever use of variables can save you time hunting through your code and replacing every instance of a word/number/value."
   ]
  },
  {
   "cell_type": "code",
   "execution_count": 5,
   "id": "47d90c9d",
   "metadata": {},
   "outputs": [
    {
     "name": "stdout",
     "output_type": "stream",
     "text": [
      "Welcome to Earth\n",
      "Nice weather today here on Earth\n",
      "Earth  will shortly be destroyed to make space for the new interstellar Vogon highway.\n"
     ]
    }
   ],
   "source": [
    "print(f\"Welcome to {planet}\")\n",
    "print(f\"Nice weather today here on {planet}\")\n",
    "print(f\"{planet}  will shortly be destroyed to make space for the new interstellar Vogon highway.\")"
   ]
  },
  {
   "cell_type": "markdown",
   "id": "14c50a76",
   "metadata": {},
   "source": [
    "#### Cell Execution Order and Restarting the Kernel\n",
    "\n",
    "Within a cell, lines of code are executed in the order they are written. Code cells will execute in any order you decide. The order in which cells are executed appears to the left e.g. `In [7]:` indicates that a particular cell is the seventh cell to be run in the notebook. Try executing the cells below in order:\n",
    "\n",
    "* cell 1, cell 2, cell 3\n",
    "* cell 3, cell 2, cell 1\n",
    "\n",
    "Which value for `my_field` gets printed to the screen in either case?"
   ]
  },
  {
   "cell_type": "code",
   "execution_count": 6,
   "id": "9cfd4c73",
   "metadata": {},
   "outputs": [],
   "source": [
    "# cell 1\n",
    "my_field = \"oceanography\""
   ]
  },
  {
   "cell_type": "code",
   "execution_count": 7,
   "id": "a3e41a53",
   "metadata": {},
   "outputs": [
    {
     "name": "stdout",
     "output_type": "stream",
     "text": [
      "oceanography is awesome!\n"
     ]
    }
   ],
   "source": [
    "# cell 2\n",
    "print(my_field + \" is awesome!\")"
   ]
  },
  {
   "cell_type": "code",
   "execution_count": 8,
   "id": "94e5527c",
   "metadata": {},
   "outputs": [],
   "source": [
    "# cell 3\n",
    "my_field = \"atmospheric science\"\n",
    "my_field = \"geology\""
   ]
  },
  {
   "cell_type": "markdown",
   "id": "77e0e79d",
   "metadata": {},
   "source": [
    "Finally, press the \\[$\\circlearrowright$\\] button to *restart the kernel* and try executing cell 2 again. What happens? Restarting the kernel tells the python interpreter to *forget all variables and start over from scratch*. The \\[$\\blacktriangleright\\blacktriangleright$\\] button restarts the kernel then immediately executes each cell in order (top to bottom, or until it encounters an error and cannot continue). \n",
    "\n",
    "<div class=\"alert alert-danger\" role=\"alert\">\n",
    "  <strong>Important: </strong> When your instructors mark a submitted notebook, all cells will be executed in order. Before you submit, run the whole notebook from top to bottom and make sure it produces the result you want\n",
    "</div>\n",
    "\n",
    "\n",
    "Try it out! Edit the cells above (create new cells or copy/paste lines of code) so that when you press \\[$\\blacktriangleright\\blacktriangleright$\\], the resulting output to the screen is:\n",
    "\n",
    "```\n",
    "atmospheric science is awesome!\n",
    "```"
   ]
  },
  {
   "cell_type": "markdown",
   "id": "8233778f",
   "metadata": {},
   "source": [
    "#### Math in Python\n",
    "\n",
    "The Python core contains functionality for doing basic math. Later in the course, we will learn how to *import* further functionality for doing not-so-basic math. The syntax for math in Python is summarized below:\n",
    "\n",
    "| Operator | Description | Example | Result |\n",
    "| --- | --- | --- | --- |\n",
    "| ``` + ``` | addition | ```2 + 3 ``` | ```5``` |\n",
    "| ``` - ``` | subtraction | ```8 - 6 ``` | ```2``` |\n",
    "| ``` - ``` | negative number | ```-4``` | ```-4``` |\n",
    "| ``` * ``` | multiplication | ``` 5 * 2 ``` | ``` 10 ``` |\n",
    "| ``` / ``` | division | ``` 6 / 3 ``` | ``` 2 ``` |\n",
    "| ``` ** ```| raises a number to a power | ``` 10**2 ``` | ``` 100 ``` |\n",
    "\n",
    "For more complex calculations involving several operators, the python interpreter will perform calculations in the order BEDMAS (brackets, exponents, division/multiplication, addiition/subtraction), just like you would do by hand.\n",
    "\n",
    "Try it out! In the code cell below (or you can create multiple code cells, up to you!), solve the following equations:\n",
    "\n",
    "**A:** $2^2 + 9$\n",
    "\n",
    "**B:** $2^2 + 9 \\times 2$\n",
    "\n",
    "**C:** $(2 + 9)^2 \\times 2$"
   ]
  },
  {
   "cell_type": "code",
   "execution_count": 9,
   "id": "798ba6e8",
   "metadata": {},
   "outputs": [],
   "source": [
    "# your code here"
   ]
  },
  {
   "cell_type": "markdown",
   "id": "c63b6f77",
   "metadata": {},
   "source": [
    "#### Math With Variables\n",
    "\n",
    "Just like we could print *variables* to the screen, we can assign and reference variables within calculations. For example, the circumference $C$ of a circle is:\n",
    "\n",
    "$$\n",
    "C = 2\\pi r\n",
    "$$\n",
    "\n",
    "where $r$ is the radius of the circle and $\\pi = 3.14$. We can code this equation in python like so:"
   ]
  },
  {
   "cell_type": "code",
   "execution_count": 10,
   "id": "738e7487",
   "metadata": {},
   "outputs": [
    {
     "name": "stdout",
     "output_type": "stream",
     "text": [
      "40009.880000000005\n"
     ]
    }
   ],
   "source": [
    "radius_of_planet = 6371  # km\n",
    "\n",
    "circumference = 2 * 3.14 * radius_of_planet\n",
    "print(circumference)"
   ]
  },
  {
   "cell_type": "markdown",
   "id": "152e49ad",
   "metadata": {},
   "source": [
    "### Markdown Cells\n",
    "\n",
    "One of the big learning goals in this course is writing code that is *well documented*. It should be easy for another programmer (or your future self) to look at your code and understand what is happening in each code cell and why. A major reason we have elected to teach this course with Jupyter Notebooks is their ability to show nicely formatted commentary between snippets of executable computer code. \n",
    "\n",
    "Unlike code cells, *markdown cells* don't execute or produce outputs, they simply *render* plain text into nicely formatted paragraphs. The cell you are reading right now is written in markdown; double click on it to see the plain text before rendering. Press `[Shift]` + `[Enter]` to re-render the cell. \n",
    "\n",
    "The main focus of this course is writing *Python* code, so you won't be expected to learn every part of the markdown syntax  (but feel free to make your notebooks/labs as fancy as you like, we encourage it!). You will need to be able to edit markdown cells in order to complete long answer questions, like so:\n",
    "\n",
    "**What is your favorite color?**"
   ]
  },
  {
   "cell_type": "markdown",
   "id": "ac59ac28",
   "metadata": {},
   "source": [
    "your answer here"
   ]
  },
  {
   "cell_type": "markdown",
   "id": "7bbf3d1b",
   "metadata": {},
   "source": [
    "### Saving and Submitting Assignments\n",
    "\n",
    "As you create or edit a Jupyter Notebook, you can save your work by clicking `File` $\\rightarrow$ `Save and Checkpoint` (or `[Ctrl]` + `[s]`). This will save your notebook on the Jupyterhub server in the cloud. To download a notebook to your own computer, select `File` $\\rightarrow$ `Download as` $\\rightarrow$ `Notebook (.ipynb)`. \n",
    "\n",
    "It is ***very good programming practice*** to keep at least 2 copies of each notebook in at least 2 locations (e.g. on the jupyterhub server and on your laptop) and we highly recommend doing this to prevent losing work.\n",
    "\n",
    "To hand in an assignment, download your final copy as a .ipynb and upload it via the link to that assignment on canvas"
   ]
  },
  {
   "cell_type": "markdown",
   "id": "b799a10c",
   "metadata": {},
   "source": [
    "## To hand in by the end of this lab\n",
    "\n",
    "Write your answers in the cells below and submit your lab via Canvas"
   ]
  },
  {
   "cell_type": "markdown",
   "id": "206360b8",
   "metadata": {},
   "source": [
    "### Question 1\n",
    "\n",
    "**What motivated you to sign up for this course?  Are you most interested in Earth, Ocean, or Atmospheric Science? (or something else?)**\n",
    "\n",
    "**(Double click to edit the markdown cell below, `[Ctrl]` + `[Enter]` to render)**"
   ]
  },
  {
   "cell_type": "markdown",
   "id": "892638f7",
   "metadata": {},
   "source": [
    "your answer here"
   ]
  },
  {
   "cell_type": "markdown",
   "id": "9734291a",
   "metadata": {},
   "source": [
    "### Question 2\n",
    "\n",
    "**We can calculate travel time $t$ given distance $d$ and speed $v$ with**\n",
    "\n",
    "$$\n",
    "t = \\frac{d}{v}\n",
    "$$\n",
    "\n",
    "**With $t$ reported in hours, $d$ in kilometers and $v$ in kilometers per hour. Write code in the cell below to perform the calculation using the *variables* assigned throughout this notebook. Press the \\[$\\blacktriangleright\\blacktriangleright$\\] button to run the whole notebook again, and make sure that the code still produces the correct output. (Note: the *values* for `planet` (ie the name), `biking_speed` (numerical value in kph) and `radius` (numerical value in km) arent important. Full marks are awarded for code that produces a sensible result with no errors)**"
   ]
  },
  {
   "cell_type": "code",
   "execution_count": 11,
   "id": "7ad56f81",
   "metadata": {},
   "outputs": [
    {
     "ename": "NameError",
     "evalue": "name 't' is not defined",
     "output_type": "error",
     "traceback": [
      "\u001b[0;31m---------------------------------------------------------------------------\u001b[0m",
      "\u001b[0;31mNameError\u001b[0m                                 Traceback (most recent call last)",
      "\u001b[0;32m/tmp/ipykernel_2248968/1133803666.py\u001b[0m in \u001b[0;36m<module>\u001b[0;34m\u001b[0m\n\u001b[1;32m      6\u001b[0m \u001b[0;31m# your code here\u001b[0m\u001b[0;34m\u001b[0m\u001b[0;34m\u001b[0m\u001b[0;34m\u001b[0m\u001b[0m\n\u001b[1;32m      7\u001b[0m \u001b[0;34m\u001b[0m\u001b[0m\n\u001b[0;32m----> 8\u001b[0;31m \u001b[0mprint\u001b[0m\u001b[0;34m(\u001b[0m\u001b[0;34mf\"It will take {t} hours to ride a bicycle around {planet}\"\u001b[0m\u001b[0;34m)\u001b[0m\u001b[0;34m\u001b[0m\u001b[0;34m\u001b[0m\u001b[0m\n\u001b[0m",
      "\u001b[0;31mNameError\u001b[0m: name 't' is not defined"
     ]
    }
   ],
   "source": [
    "biking_speed = 20  # km/h\n",
    "\n",
    "# reference variables assigned in earlier cells to calculate travel time around \"planet\"\n",
    "# and assign the result to a new variable \"t\"\n",
    "\n",
    "# your code here\n",
    "\n",
    "print(f\"It will take {t} hours to ride a bicycle around {planet}\")"
   ]
  },
  {
   "cell_type": "markdown",
   "id": "ecbb6091",
   "metadata": {},
   "source": [
    "## Helpful Terminology\n",
    "\n",
    "**Python:** a high level programming language popular among scientists. Python code is saved with the extension `.py` and can be run on any computer with a python interpreter installed on it. We are using version the *miniconda distribution, version 3.7* for this course.\n",
    "\n",
    "**Jupyter Notebooks:** an *Integrated Development Environment* for writing python code that runs in a web browser (i.e. Chrome, Firefox). Notebooks are comprised of cells, which are either executable python code or rendered markdown text. Notebooks contain and execute python code, but are saved with the extension `.ipynb`\n",
    "\n",
    "**Jupyterhub:** a *computational environment* for running jupyter notebooks in the cloud, designed specifically for applications like teaching or collaborative research. The EOSC211 course hub is available online and requires no installation on your own machine. Later in the course, we will talk about installing python yourself and developing your own individual workflow."
   ]
  }
 ],
 "metadata": {
  "jupytext": {
   "formats": "ipynb,md:myst",
   "text_representation": {
    "extension": ".md",
    "format_name": "myst",
    "format_version": 0.13,
    "jupytext_version": "1.11.4"
   }
  },
  "kernelspec": {
   "display_name": "Python 3 (ipykernel)",
   "language": "python",
   "name": "python3"
  },
  "language_info": {
   "codemirror_mode": {
    "name": "ipython",
    "version": 3
   },
   "file_extension": ".py",
   "mimetype": "text/x-python",
   "name": "python",
   "nbconvert_exporter": "python",
   "pygments_lexer": "ipython3",
   "version": "3.8.12"
  },
  "source_map": [
   13,
   28,
   51,
   71,
   73,
   79,
   83,
   87,
   89,
   93,
   99,
   101,
   105,
   109,
   120,
   125,
   130,
   134,
   149,
   174,
   176,
   188,
   193,
   205,
   209,
   219,
   225,
   233,
   237,
   249,
   258
  ]
 },
 "nbformat": 4,
 "nbformat_minor": 5
}